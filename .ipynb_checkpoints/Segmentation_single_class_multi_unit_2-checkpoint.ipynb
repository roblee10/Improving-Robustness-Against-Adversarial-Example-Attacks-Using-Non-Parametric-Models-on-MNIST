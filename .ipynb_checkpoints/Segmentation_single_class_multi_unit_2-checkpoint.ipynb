{
 "cells": [
  {
   "cell_type": "markdown",
   "metadata": {},
   "source": [
    "## All RBF Layers in one Class"
   ]
  },
  {
   "cell_type": "code",
   "execution_count": 18,
   "metadata": {},
   "outputs": [],
   "source": [
    "import tensorflow as tf\n",
    "import numpy as np\n",
    "import gzip\n",
    "import keras\n",
    "import matplotlib.pyplot as plt\n",
    "import time\n",
    "import random\n",
    "from sklearn.gaussian_process.kernels import PairwiseKernel\n",
    "from sklearn.cluster import KMeans\n",
    "from sklearn.decomposition import PCA\n",
    "from sklearn.gaussian_process import GaussianProcessRegressor\n",
    "from keras.datasets import mnist\n",
    "from keras.models import Sequential\n",
    "from keras.layers import Dense, Dropout\n",
    "from keras.optimizers import RMSprop, Adam, Nadam"
   ]
  },
  {
   "cell_type": "code",
   "execution_count": 19,
   "metadata": {},
   "outputs": [],
   "source": [
    "np.set_printoptions(suppress=True)\n",
    "np.set_printoptions(precision=3)\n",
    "\n",
    "# read data set\n",
    "f = gzip.open('./data/train-images-idx3-ubyte.gz', 'rb')\n",
    "x_train = np.array(np.frombuffer(f.read(), np.uint8, offset=16))\n",
    "\n",
    "f = gzip.open('./data/train-labels-idx1-ubyte.gz', 'rb')\n",
    "y_train = np.array(np.frombuffer(f.read(), np.uint8, offset=8))\n",
    "\n",
    "f = gzip.open('./data/t10k-images-idx3-ubyte.gz', 'rb')\n",
    "x_test = np.array(np.frombuffer(f.read(), np.uint8, offset=16))\n",
    "\n",
    "f = gzip.open('./data/t10k-labels-idx1-ubyte.gz', 'rb')\n",
    "y_test = np.array(np.frombuffer(f.read(), np.uint8, offset=8))\n",
    "\n",
    "# data preprocessing\n",
    "x_train = np.reshape(x_train, (-1, 784))\n",
    "x_train = x_train / 255\n",
    "x_train = x_train.astype(np.float32)\n",
    "x_test = np.reshape(x_test, (-1, 784))\n",
    "x_test = x_test / 255\n",
    "x_test = x_test.astype(np.float32)\n",
    "\n",
    "# get each training images\n",
    "idx_train = [0 for i in range(10)]\n",
    "idx_test = [0 for i in range(10)]\n",
    "for i in range(10):\n",
    "    idx_train[i] = (y_train == i)\n",
    "    idx_test[i] = (y_test == i)\n",
    "      \n",
    "x_train_38 = x_train[idx_train[3]+idx_train[8]]\n",
    "x_test_38 = x_test[idx_test[3]+idx_test[8]]\n",
    "\n",
    "# x_temptr_38 = x_train[idx_train[3]+idx_train[8]][0:10000]\n",
    "# x_tempte_38 = x_test[idx_test[3]+idx_test[8]][0:1500]\n",
    "\n",
    "# y_train_38 = y_train[idx_train[3]+idx_train[8]][0:1000]\n",
    "# print(np.count_nonzero(y_train_38[y_train_38==3]))\n",
    "\n",
    "# one-hot encoding\n",
    "y_train = keras.utils.to_categorical(y_train, 10)\n",
    "y_test = keras.utils.to_categorical(y_test, 10)\n",
    "\n",
    "y_train_38 = y_train[idx_train[3]+idx_train[8]]\n",
    "y_test_38 = y_test[idx_test[3]+idx_test[8]]\n",
    "\n",
    "# y_temptr_38 = y_train[idx_train[3]+idx_train[8]][0:10000]\n",
    "# y_tempte_38 = y_test[idx_test[3]+idx_test[8]][0:1500]\n"
   ]
  },
  {
   "cell_type": "code",
   "execution_count": 20,
   "metadata": {},
   "outputs": [],
   "source": [
    "# K-Means clustering to find centers\n",
    "_38 = []\n",
    "for i in [3,8]:\n",
    "    kmeans_model = KMeans(10)\n",
    "    kmeans_model.fit(x_train[idx_train[i]])\n",
    "    _38.extend(kmeans_model.cluster_centers_)"
   ]
  },
  {
   "cell_type": "code",
   "execution_count": 21,
   "metadata": {},
   "outputs": [
    {
     "data": {
      "image/png": "[encoded data removed]",
      "text/plain": [
       "<Figure size 720x720 with 20 Axes>"
      ]
     },
     "metadata": {},
     "output_type": "display_data"
    }
   ],
   "source": [
    "# plot cluster centers as images\n",
    "fig = plt.figure(figsize = (10,10))\n",
    "\n",
    "for i in range(20):\n",
    "  subplot = fig.add_subplot(10, 10, i+1)\n",
    "  subplot.set_xticks([])\n",
    "  subplot.set_yticks([])\n",
    "  subplot.imshow(np.reshape(_38[i]*255, (28, 28)), cmap='gray')\n",
    "  "
   ]
  },
  {
   "cell_type": "code",
   "execution_count": 22,
   "metadata": {},
   "outputs": [
    {
     "name": "stdout",
     "output_type": "stream",
     "text": [
      "(200, 49)\n"
     ]
    }
   ],
   "source": [
    "seg_num = 10\n",
    "\n",
    "center_7x7 =[]\n",
    "row_7x7 = [random.randrange(0,29-7) for _ in range(seg_num)]\n",
    "col_7x7 = [random.randrange(0,29-7) for _ in range(seg_num)]\n",
    "\n",
    "for i in range(seg_num):\n",
    "    for center in _38:\n",
    "        center_7x7.extend(center[r*28+col_7x7[i] : r*28+(col_7x7[i]+7)] \n",
    "                                for r in range(row_7x7[i],row_7x7[i]+7))\n",
    "\n",
    "center_7x7 = np.reshape(center_7x7,(-1,7*7))\n",
    "print(center_7x7.shape)"
   ]
  },
  {
   "cell_type": "code",
   "execution_count": 23,
   "metadata": {},
   "outputs": [
    {
     "name": "stdout",
     "output_type": "stream",
     "text": [
      "(200, 196)\n"
     ]
    }
   ],
   "source": [
    "seg_num = 10\n",
    "center_14x14 =[]\n",
    "row_14x14 = [random.randrange(0,29-14) for _ in range(seg_num)]\n",
    "col_14x14 = [random.randrange(0,29-14) for _ in range(seg_num)]\n",
    "\n",
    "for i in range(seg_num):\n",
    "    for center in _38:\n",
    "        center_14x14.extend(center[r*28+col_14x14[i] : r*28+(col_14x14[i]+14)] \n",
    "                                for r in range(row_14x14[i],row_14x14[i]+14))\n",
    "\n",
    "center_14x14 = np.reshape(center_14x14,(-1,14*14))\n",
    "print(center_14x14.shape)"
   ]
  },
  {
   "cell_type": "code",
   "execution_count": 24,
   "metadata": {},
   "outputs": [
    {
     "name": "stdout",
     "output_type": "stream",
     "text": [
      "(20, 784)\n"
     ]
    }
   ],
   "source": [
    "center_28x28 = _38[:]\n",
    "center_28x28 = np.array(center_28x28)\n",
    "print(center_28x28.shape)"
   ]
  },
  {
   "cell_type": "code",
   "execution_count": 25,
   "metadata": {},
   "outputs": [],
   "source": [
    "x_7 = np.zeros((20,20))\n",
    "for i in range(20):\n",
    "    x_7[i][i] = 1\n",
    "\n",
    "x_14 = np.zeros((20,20))\n",
    "for i in range(20):\n",
    "    x_14[i][i] = 1\n",
    "\n",
    "x_28 = np.zeros((20,20))\n",
    "for i in range(20):\n",
    "    x_28[i][i] = 1"
   ]
  },
  {
   "cell_type": "code",
   "execution_count": 26,
   "metadata": {},
   "outputs": [
    {
     "name": "stdout",
     "output_type": "stream",
     "text": [
      "(119820, 49)\n",
      "(19840, 49)\n"
     ]
    }
   ],
   "source": [
    "trimg_7x7 = []\n",
    "trlab_7x7 = []\n",
    "testimg_7x7 = []\n",
    "testlab_7x7 = []\n",
    "\n",
    "for i in range(seg_num):\n",
    "    \n",
    "    for arr in x_train_38:\n",
    "        trimg_7x7.extend(arr[r*28+col_7x7[i] : r*28+(col_7x7[i]+7)]\n",
    "                         for r in range(row_7x7[i],row_7x7[i]+7))\n",
    "        \n",
    "    for arr in x_test_38:\n",
    "        testimg_7x7.extend(arr[r*28+col_7x7[i] : r*28+(col_7x7[i]+7) ] \n",
    "                                  for r in range(row_7x7[i],row_7x7[i]+7))   \n",
    "    \n",
    "    for arr in y_train_38:    \n",
    "        trlab_7x7.extend(arr)\n",
    "\n",
    "    for arr in y_test_38:    \n",
    "        testlab_7x7.extend(arr)\n",
    "\n",
    "trimg_7x7 = np.reshape(trimg_7x7,(-1,7*7))  \n",
    "testimg_7x7 = np.reshape(testimg_7x7,(-1,7*7))    \n",
    "trlab_7x7 = np.reshape(trlab_7x7,(-1,10))\n",
    "testlab_7x7 = np.reshape(testlab_7x7,(-1,10))\n",
    "\n",
    "print(trimg_7x7.shape)\n",
    "print(testimg_7x7.shape)"
   ]
  },
  {
   "cell_type": "code",
   "execution_count": 27,
   "metadata": {},
   "outputs": [
    {
     "name": "stdout",
     "output_type": "stream",
     "text": [
      "(119820, 196)\n",
      "(19840, 196)\n"
     ]
    }
   ],
   "source": [
    "trimg_14x14 = []\n",
    "trlab_14x14 = []\n",
    "testimg_14x14 = []\n",
    "testlab_14x14 = []\n",
    "\n",
    "for i in range(seg_num):\n",
    "    for arr in x_train_38:\n",
    "        trimg_14x14.extend(arr[r*28+col_14x14[i] : r*28+(col_14x14[i]+14) ] \n",
    "                                  for r in range(row_14x14[i],row_14x14[i]+14))\n",
    "    for arr in x_test_38:\n",
    "        testimg_14x14.extend(arr[r*28+col_14x14[i] : r*28+(col_14x14[i]+14) ] \n",
    "                                  for r in range(row_14x14[i],row_14x14[i]+14))\n",
    "    \n",
    "    for arr in y_train_38:    \n",
    "        trlab_14x14.extend(arr)\n",
    "\n",
    "    for arr in y_test_38:    \n",
    "        testlab_14x14.extend(arr)\n",
    "\n",
    "trimg_14x14 = np.reshape(trimg_14x14,(-1,14*14))  \n",
    "testimg_14x14 = np.reshape(testimg_14x14,(-1,14*14))    \n",
    "trlab_14x14 = np.reshape(trlab_14x14,(-1,10))\n",
    "testlab_14x14 = np.reshape(testlab_14x14,(-1,10))\n",
    "\n",
    "print(trimg_14x14.shape)\n",
    "print(testimg_14x14.shape)"
   ]
  },
  {
   "cell_type": "code",
   "execution_count": 28,
   "metadata": {},
   "outputs": [
    {
     "name": "stdout",
     "output_type": "stream",
     "text": [
      "(119820, 784)\n",
      "(19840, 784)\n"
     ]
    }
   ],
   "source": [
    "trimg_28x28 = []\n",
    "trlab_28x28 = []\n",
    "testimg_28x28 = []\n",
    "testlab_28x28 = []\n",
    "\n",
    "for i in range(10):\n",
    "    for arr in x_train_38:\n",
    "        trimg_28x28.extend(arr)\n",
    "    for arr in x_test_38:\n",
    "        testimg_28x28.extend(arr)\n",
    "    for arr in y_train_38:    \n",
    "        trlab_28x28.extend(arr)\n",
    "    for arr in y_test_38:    \n",
    "        testlab_28x28.extend(arr)\n",
    "\n",
    "trimg_28x28 = np.reshape(trimg_28x28,(-1,28*28))  \n",
    "testimg_28x28 = np.reshape(testimg_28x28,(-1,28*28))    \n",
    "trlab_28x28 = np.reshape(trlab_28x28,(-1,10))\n",
    "testlab_28x28 = np.reshape(testlab_28x28,(-1,10))\n",
    "\n",
    "print(trimg_28x28.shape)\n",
    "print(testimg_28x28.shape)\n"
   ]
  },
  {
   "cell_type": "code",
   "execution_count": 34,
   "metadata": {},
   "outputs": [
    {
     "name": "stdout",
     "output_type": "stream",
     "text": [
      "(11982, 20)\n",
      "(11982, 400)\n",
      "(1984, 400)\n"
     ]
    }
   ],
   "source": [
    "temp1 = []\n",
    "temp2=[]\n",
    "temp3=[]\n",
    "temp4=[]\n",
    "\n",
    "\n",
    "\n",
    "kernel = PairwiseKernel(metric='polynomial') \n",
    "rbf_models = GaussianProcessRegressor(kernel=kernel,alpha=0.1).fit(center_7x7[0:20], x_7)\n",
    "\n",
    "temp1= (rbf_models.predict(trimg_7x7[0:len(x_train_38)]))\n",
    "temp2= (rbf_models.predict(testimg_7x7[0:len(x_test_38)]))\n",
    "print(temp1.shape)\n",
    "\n",
    "for i in range(1,seg_num):\n",
    "    rbf_models = GaussianProcessRegressor(kernel=kernel,alpha=0.1).fit(center_7x7[20*i:20*(i+1)], x_7)\n",
    "\n",
    "    temp1= np.hstack([temp1,(rbf_models.predict(trimg_7x7[len(x_train_38)*i:len(x_train_38)*(i+1)]))])\n",
    "    temp2= np.hstack([temp2,(rbf_models.predict(testimg_7x7[len(x_test_38)*i:len(x_test_38)*(i+1)]))])\n",
    "\n",
    "for i in range(seg_num):\n",
    "    rbf_models = GaussianProcessRegressor(kernel=kernel,alpha=0.1).fit(center_14x14[20*i:20*(i+1)], x_14)\n",
    "\n",
    "    temp1= np.hstack([temp1,(rbf_models.predict(trimg_14x14[len(x_train_38)*i:len(x_train_38)*(i+1)]))])\n",
    "    temp2= np.hstack([temp2,(rbf_models.predict(testimg_14x14[len(x_test_38)*i:len(x_test_38)*(i+1)]))])\n",
    "\n",
    "    \n",
    "# 29x28 이미지 포함, (Input 420으로 변경)\n",
    "\n",
    "# rbf_models = GaussianProcessRegressor(kernel=kernel,alpha=0.1).fit(center_28x28[0:20], x_28)\n",
    "# temp1= np.hstack([temp1,(rbf_models.predict(trimg_28x28[0:len(x_train_38)]))])\n",
    "# temp2= np.hstack([temp2,(rbf_models.predict(testimg_28x28[0:len(x_test_38)]))])\n",
    "\n",
    "print(temp1.shape)\n",
    "print(temp2.shape)\n"
   ]
  },
  {
   "cell_type": "code",
   "execution_count": 35,
   "metadata": {
    "scrolled": false
   },
   "outputs": [
    {
     "name": "stdout",
     "output_type": "stream",
     "text": [
      "_________________________________________________________________\n",
      "Layer (type)                 Output Shape              Param #   \n",
      "=================================================================\n",
      "dense_2 (Dense)              (None, 10)                4010      \n",
      "=================================================================\n",
      "Total params: 4,010\n",
      "Trainable params: 4,010\n",
      "Non-trainable params: 0\n",
      "_________________________________________________________________\n",
      "Epoch 1/100\n",
      "11982/11982 [==============================] - 0s 24us/step - loss: 1.7140 - acc: 0.4618\n",
      "Epoch 2/100\n",
      "11982/11982 [==============================] - 0s 16us/step - loss: 0.7116 - acc: 0.8258\n",
      "Epoch 3/100\n",
      "11982/11982 [==============================] - 0s 16us/step - loss: 0.4222 - acc: 0.9189\n",
      "Epoch 4/100\n",
      "11982/11982 [==============================] - 0s 16us/step - loss: 0.3033 - acc: 0.9464\n",
      "Epoch 5/100\n",
      "11982/11982 [==============================] - 0s 15us/step - loss: 0.2405 - acc: 0.9599\n",
      "Epoch 6/100\n",
      "11982/11982 [==============================] - 0s 16us/step - loss: 0.2017 - acc: 0.9657\n",
      "Epoch 7/100\n",
      "11982/11982 [==============================] - 0s 15us/step - loss: 0.1754 - acc: 0.9687\n",
      "Epoch 8/100\n",
      "11982/11982 [==============================] - 0s 15us/step - loss: 0.1564 - acc: 0.9714\n",
      "Epoch 9/100\n",
      "11982/11982 [==============================] - 0s 16us/step - loss: 0.1418 - acc: 0.9736\n",
      "Epoch 10/100\n",
      "11982/11982 [==============================] - 0s 15us/step - loss: 0.1304 - acc: 0.9746\n",
      "Epoch 11/100\n",
      "11982/11982 [==============================] - 0s 15us/step - loss: 0.1212 - acc: 0.9772\n",
      "Epoch 12/100\n",
      "11982/11982 [==============================] - 0s 15us/step - loss: 0.1136 - acc: 0.9777\n",
      "Epoch 13/100\n",
      "11982/11982 [==============================] - 0s 15us/step - loss: 0.1072 - acc: 0.9791: 0s - loss: 0.1039 - acc: 0.98\n",
      "Epoch 14/100\n",
      "11982/11982 [==============================] - 0s 16us/step - loss: 0.1017 - acc: 0.9798\n",
      "Epoch 15/100\n",
      "11982/11982 [==============================] - 0s 15us/step - loss: 0.0969 - acc: 0.9806\n",
      "Epoch 16/100\n",
      "11982/11982 [==============================] - 0s 15us/step - loss: 0.0929 - acc: 0.9810\n",
      "Epoch 17/100\n",
      "11982/11982 [==============================] - 0s 15us/step - loss: 0.0892 - acc: 0.9814\n",
      "Epoch 18/100\n",
      "11982/11982 [==============================] - 0s 16us/step - loss: 0.0860 - acc: 0.9816\n",
      "Epoch 19/100\n",
      "11982/11982 [==============================] - 0s 16us/step - loss: 0.0830 - acc: 0.9821\n",
      "Epoch 20/100\n",
      "11982/11982 [==============================] - 0s 15us/step - loss: 0.0805 - acc: 0.9819\n",
      "Epoch 21/100\n",
      "11982/11982 [==============================] - 0s 15us/step - loss: 0.0781 - acc: 0.9820\n",
      "Epoch 22/100\n",
      "11982/11982 [==============================] - 0s 15us/step - loss: 0.0759 - acc: 0.9826\n",
      "Epoch 23/100\n",
      "11982/11982 [==============================] - 0s 15us/step - loss: 0.0738 - acc: 0.9829\n",
      "Epoch 24/100\n",
      "11982/11982 [==============================] - 0s 15us/step - loss: 0.0721 - acc: 0.9829\n",
      "Epoch 25/100\n",
      "11982/11982 [==============================] - 0s 15us/step - loss: 0.0704 - acc: 0.9831\n",
      "Epoch 26/100\n",
      "11982/11982 [==============================] - 0s 15us/step - loss: 0.0688 - acc: 0.9830\n",
      "Epoch 27/100\n",
      "11982/11982 [==============================] - 0s 15us/step - loss: 0.0673 - acc: 0.9832\n",
      "Epoch 28/100\n",
      "11982/11982 [==============================] - 0s 16us/step - loss: 0.0659 - acc: 0.9834\n",
      "Epoch 29/100\n",
      "11982/11982 [==============================] - 0s 15us/step - loss: 0.0647 - acc: 0.9834\n",
      "Epoch 30/100\n",
      "11982/11982 [==============================] - 0s 15us/step - loss: 0.0635 - acc: 0.9839\n",
      "Epoch 31/100\n",
      "11982/11982 [==============================] - 0s 17us/step - loss: 0.0624 - acc: 0.9838\n",
      "Epoch 32/100\n",
      "11982/11982 [==============================] - 0s 15us/step - loss: 0.0614 - acc: 0.9837\n",
      "Epoch 33/100\n",
      "11982/11982 [==============================] - 0s 15us/step - loss: 0.0603 - acc: 0.9841\n",
      "Epoch 34/100\n",
      "11982/11982 [==============================] - 0s 15us/step - loss: 0.0595 - acc: 0.9846\n",
      "Epoch 35/100\n",
      "11982/11982 [==============================] - 0s 15us/step - loss: 0.0585 - acc: 0.9843\n",
      "Epoch 36/100\n",
      "11982/11982 [==============================] - 0s 15us/step - loss: 0.0577 - acc: 0.9846\n",
      "Epoch 37/100\n",
      "11982/11982 [==============================] - 0s 15us/step - loss: 0.0569 - acc: 0.9847\n",
      "Epoch 38/100\n",
      "11982/11982 [==============================] - 0s 15us/step - loss: 0.0561 - acc: 0.9847\n",
      "Epoch 39/100\n",
      "11982/11982 [==============================] - 0s 15us/step - loss: 0.0554 - acc: 0.9853\n",
      "Epoch 40/100\n",
      "11982/11982 [==============================] - 0s 16us/step - loss: 0.0547 - acc: 0.9847\n",
      "Epoch 41/100\n",
      "11982/11982 [==============================] - 0s 16us/step - loss: 0.0541 - acc: 0.9856\n",
      "Epoch 42/100\n",
      "11982/11982 [==============================] - 0s 15us/step - loss: 0.0535 - acc: 0.9853\n",
      "Epoch 43/100\n",
      "11982/11982 [==============================] - 0s 15us/step - loss: 0.0529 - acc: 0.9857\n",
      "Epoch 44/100\n",
      "11982/11982 [==============================] - 0s 14us/step - loss: 0.0523 - acc: 0.9860\n",
      "Epoch 45/100\n",
      "11982/11982 [==============================] - 0s 14us/step - loss: 0.0518 - acc: 0.9858\n",
      "Epoch 46/100\n",
      "11982/11982 [==============================] - 0s 16us/step - loss: 0.0512 - acc: 0.9862\n",
      "Epoch 47/100\n",
      "11982/11982 [==============================] - 0s 15us/step - loss: 0.0508 - acc: 0.9861\n",
      "Epoch 48/100\n",
      "11982/11982 [==============================] - 0s 16us/step - loss: 0.0502 - acc: 0.9861\n",
      "Epoch 49/100\n",
      "11982/11982 [==============================] - 0s 16us/step - loss: 0.0498 - acc: 0.9861\n",
      "Epoch 50/100\n",
      "11982/11982 [==============================] - 0s 16us/step - loss: 0.0493 - acc: 0.9862\n",
      "Epoch 51/100\n",
      "11982/11982 [==============================] - 0s 16us/step - loss: 0.0488 - acc: 0.9861\n",
      "Epoch 52/100\n",
      "11982/11982 [==============================] - 0s 15us/step - loss: 0.0485 - acc: 0.9860\n",
      "Epoch 53/100\n",
      "11982/11982 [==============================] - 0s 15us/step - loss: 0.0479 - acc: 0.9864\n",
      "Epoch 54/100\n",
      "11982/11982 [==============================] - 0s 15us/step - loss: 0.0476 - acc: 0.9869\n",
      "Epoch 55/100\n",
      "11982/11982 [==============================] - 0s 15us/step - loss: 0.0473 - acc: 0.9866\n",
      "Epoch 56/100\n",
      "11982/11982 [==============================] - 0s 15us/step - loss: 0.0469 - acc: 0.9864\n",
      "Epoch 57/100\n",
      "11982/11982 [==============================] - 0s 16us/step - loss: 0.0465 - acc: 0.9867\n",
      "Epoch 58/100\n",
      "11982/11982 [==============================] - 0s 15us/step - loss: 0.0462 - acc: 0.9869\n",
      "Epoch 59/100\n",
      "11982/11982 [==============================] - 0s 15us/step - loss: 0.0459 - acc: 0.9869\n",
      "Epoch 60/100\n",
      "11982/11982 [==============================] - 0s 15us/step - loss: 0.0456 - acc: 0.9874\n",
      "Epoch 61/100\n",
      "11982/11982 [==============================] - 0s 15us/step - loss: 0.0452 - acc: 0.9871\n",
      "Epoch 62/100\n",
      "11982/11982 [==============================] - 0s 15us/step - loss: 0.0449 - acc: 0.9871\n",
      "Epoch 63/100\n",
      "11982/11982 [==============================] - 0s 16us/step - loss: 0.0445 - acc: 0.9876\n",
      "Epoch 64/100\n",
      "11982/11982 [==============================] - 0s 15us/step - loss: 0.0443 - acc: 0.9871\n",
      "Epoch 65/100\n",
      "11982/11982 [==============================] - 0s 15us/step - loss: 0.0441 - acc: 0.9874\n",
      "Epoch 66/100\n",
      "11982/11982 [==============================] - 0s 16us/step - loss: 0.0437 - acc: 0.9877\n",
      "Epoch 67/100\n",
      "11982/11982 [==============================] - 0s 16us/step - loss: 0.0434 - acc: 0.9876\n",
      "Epoch 68/100\n",
      "11982/11982 [==============================] - 0s 15us/step - loss: 0.0432 - acc: 0.9875\n",
      "Epoch 69/100\n",
      "11982/11982 [==============================] - 0s 15us/step - loss: 0.0429 - acc: 0.9879\n",
      "Epoch 70/100\n",
      "11982/11982 [==============================] - 0s 15us/step - loss: 0.0427 - acc: 0.9877\n",
      "Epoch 71/100\n",
      "11982/11982 [==============================] - 0s 16us/step - loss: 0.0425 - acc: 0.9880\n",
      "Epoch 72/100\n",
      "11982/11982 [==============================] - 0s 15us/step - loss: 0.0422 - acc: 0.9880\n",
      "Epoch 73/100\n",
      "11982/11982 [==============================] - 0s 15us/step - loss: 0.0420 - acc: 0.9878\n",
      "Epoch 74/100\n",
      "11982/11982 [==============================] - 0s 16us/step - loss: 0.0418 - acc: 0.9881\n",
      "Epoch 75/100\n",
      "11982/11982 [==============================] - 0s 16us/step - loss: 0.0416 - acc: 0.9883\n",
      "Epoch 76/100\n",
      "11982/11982 [==============================] - 0s 15us/step - loss: 0.0414 - acc: 0.9880\n",
      "Epoch 77/100\n",
      "11982/11982 [==============================] - 0s 15us/step - loss: 0.0413 - acc: 0.9881\n",
      "Epoch 78/100\n",
      "11982/11982 [==============================] - 0s 15us/step - loss: 0.0409 - acc: 0.9880\n",
      "Epoch 79/100\n",
      "11982/11982 [==============================] - 0s 15us/step - loss: 0.0407 - acc: 0.9883\n",
      "Epoch 80/100\n",
      "11982/11982 [==============================] - 0s 15us/step - loss: 0.0406 - acc: 0.9883\n",
      "Epoch 81/100\n",
      "11982/11982 [==============================] - 0s 16us/step - loss: 0.0404 - acc: 0.9878\n",
      "Epoch 82/100\n",
      "11982/11982 [==============================] - 0s 16us/step - loss: 0.0402 - acc: 0.9883\n",
      "Epoch 83/100\n",
      "11982/11982 [==============================] - 0s 16us/step - loss: 0.0399 - acc: 0.9886\n",
      "Epoch 84/100\n",
      "11982/11982 [==============================] - 0s 16us/step - loss: 0.0398 - acc: 0.9882\n",
      "Epoch 85/100\n",
      "11982/11982 [==============================] - 0s 16us/step - loss: 0.0397 - acc: 0.9885\n",
      "Epoch 86/100\n",
      "11982/11982 [==============================] - 0s 15us/step - loss: 0.0395 - acc: 0.9882\n",
      "Epoch 87/100\n",
      "11982/11982 [==============================] - 0s 15us/step - loss: 0.0394 - acc: 0.9888\n",
      "Epoch 88/100\n",
      "11982/11982 [==============================] - 0s 16us/step - loss: 0.0393 - acc: 0.9881\n",
      "Epoch 89/100\n",
      "11982/11982 [==============================] - 0s 15us/step - loss: 0.0392 - acc: 0.9884\n",
      "Epoch 90/100\n",
      "11982/11982 [==============================] - 0s 15us/step - loss: 0.0388 - acc: 0.9886\n",
      "Epoch 91/100\n",
      "11982/11982 [==============================] - 0s 15us/step - loss: 0.0388 - acc: 0.9885\n",
      "Epoch 92/100\n",
      "11982/11982 [==============================] - 0s 16us/step - loss: 0.0387 - acc: 0.9881\n",
      "Epoch 93/100\n",
      "11982/11982 [==============================] - 0s 16us/step - loss: 0.0383 - acc: 0.9885\n",
      "Epoch 94/100\n",
      "11982/11982 [==============================] - 0s 16us/step - loss: 0.0382 - acc: 0.9888\n",
      "Epoch 95/100\n",
      "11982/11982 [==============================] - 0s 16us/step - loss: 0.0381 - acc: 0.9884\n",
      "Epoch 96/100\n",
      "11982/11982 [==============================] - 0s 16us/step - loss: 0.0378 - acc: 0.9886\n",
      "Epoch 97/100\n",
      "11982/11982 [==============================] - 0s 16us/step - loss: 0.0380 - acc: 0.9883\n",
      "Epoch 98/100\n",
      "11982/11982 [==============================] - 0s 15us/step - loss: 0.0377 - acc: 0.9886\n",
      "Epoch 99/100\n",
      "11982/11982 [==============================] - 0s 15us/step - loss: 0.0374 - acc: 0.9891\n",
      "Epoch 100/100\n",
      "11982/11982 [==============================] - 0s 15us/step - loss: 0.0375 - acc: 0.9886\n"
     ]
    }
   ],
   "source": [
    "\n",
    "batch_size = 128\n",
    "epochs = 100\n",
    "\n",
    "model = Sequential()\n",
    "model.add(Dense(10, activation='softmax', input_shape=(400,)))\n",
    "\n",
    "\n",
    "model.summary()\n",
    "nadam=keras.optimizers.Nadam(lr=0.0005)\n",
    "model.compile(loss='categorical_crossentropy',optimizer=nadam,metrics=['accuracy'])\n",
    "\n",
    "history = model.fit(temp1,y_train_38\n",
    "                         ,batch_size=batch_size\n",
    "                         ,epochs=epochs\n",
    "                         ,verbose=1)"
   ]
  },
  {
   "cell_type": "code",
   "execution_count": 36,
   "metadata": {},
   "outputs": [
    {
     "name": "stdout",
     "output_type": "stream",
     "text": [
      "Test loss: 0.05186176116888331\n",
      "Test accuracy: 0.984375\n"
     ]
    }
   ],
   "source": [
    "score = model.evaluate(temp2,y_test_38, verbose=0)\n",
    "print('Test loss:', score[0])\n",
    "print('Test accuracy:', score[1])"
   ]
  },
  {
   "cell_type": "code",
   "execution_count": null,
   "metadata": {},
   "outputs": [],
   "source": []
  }
 ],
 "metadata": {
  "kernelspec": {
   "display_name": "Python 3",
   "language": "python",
   "name": "python3"
  },
  "language_info": {
   "codemirror_mode": {
    "name": "ipython",
    "version": 3
   },
   "file_extension": ".py",
   "mimetype": "text/x-python",
   "name": "python",
   "nbconvert_exporter": "python",
   "pygments_lexer": "ipython3",
   "version": "3.6.8"
  }
 },
 "nbformat": 4,
 "nbformat_minor": 2
}
