{
 "cells": [
  {
   "cell_type": "markdown",
   "metadata": {},
   "source": [
    "## All RBF Layers in one Class"
   ]
  },
  {
   "cell_type": "code",
   "execution_count": 15,
   "metadata": {},
   "outputs": [],
   "source": [
    "import tensorflow as tf\n",
    "import numpy as np\n",
    "import gzip\n",
    "import keras\n",
    "import matplotlib.pyplot as plt\n",
    "import time\n",
    "import random\n",
    "from sklearn.gaussian_process.kernels import PairwiseKernel\n",
    "from sklearn.cluster import KMeans\n",
    "from sklearn.decomposition import PCA\n",
    "from sklearn.gaussian_process import GaussianProcessRegressor\n",
    "from keras.datasets import mnist\n",
    "from keras.models import Sequential\n",
    "from keras.layers import Dense, Dropout\n",
    "from keras.optimizers import RMSprop, Adam, Nadam"
   ]
  },
  {
   "cell_type": "code",
   "execution_count": 16,
   "metadata": {},
   "outputs": [],
   "source": [
    "np.set_printoptions(suppress=True)\n",
    "np.set_printoptions(precision=3)\n",
    "\n",
    "# read data set\n",
    "f = gzip.open('./data/train-images-idx3-ubyte.gz', 'rb')\n",
    "x_train = np.array(np.frombuffer(f.read(), np.uint8, offset=16))\n",
    "\n",
    "f = gzip.open('./data/train-labels-idx1-ubyte.gz', 'rb')\n",
    "y_train = np.array(np.frombuffer(f.read(), np.uint8, offset=8))\n",
    "\n",
    "f = gzip.open('./data/t10k-images-idx3-ubyte.gz', 'rb')\n",
    "x_test = np.array(np.frombuffer(f.read(), np.uint8, offset=16))\n",
    "\n",
    "f = gzip.open('./data/t10k-labels-idx1-ubyte.gz', 'rb')\n",
    "y_test = np.array(np.frombuffer(f.read(), np.uint8, offset=8))\n",
    "\n",
    "# data preprocessing\n",
    "x_train = np.reshape(x_train, (-1, 784))\n",
    "x_train = x_train / 255\n",
    "x_train = x_train.astype(np.float32)\n",
    "x_test = np.reshape(x_test, (-1, 784))\n",
    "x_test = x_test / 255\n",
    "x_test = x_test.astype(np.float32)\n",
    "\n",
    "# get each training images\n",
    "idx_train = [0 for i in range(10)]\n",
    "idx_test = [0 for i in range(10)]\n",
    "for i in range(10):\n",
    "    idx_train[i] = (y_train == i)\n",
    "    idx_test[i] = (y_test == i)\n",
    "      \n",
    "x_train_38 = x_train[idx_train[3]+idx_train[8]]\n",
    "x_test_38 = x_test[idx_test[3]+idx_test[8]]\n",
    "\n",
    "# x_temptr_38 = x_train[idx_train[3]+idx_train[8]][0:10000]\n",
    "# x_tempte_38 = x_test[idx_test[3]+idx_test[8]][0:1500]\n",
    "\n",
    "# y_train_38 = y_train[idx_train[3]+idx_train[8]][0:1000]\n",
    "# print(np.count_nonzero(y_train_38[y_train_38==3]))\n",
    "\n",
    "# one-hot encoding\n",
    "y_train = keras.utils.to_categorical(y_train, 10)\n",
    "y_test = keras.utils.to_categorical(y_test, 10)\n",
    "\n",
    "y_train_38 = y_train[idx_train[3]+idx_train[8]]\n",
    "y_test_38 = y_test[idx_test[3]+idx_test[8]]\n",
    "\n",
    "# y_temptr_38 = y_train[idx_train[3]+idx_train[8]][0:10000]\n",
    "# y_tempte_38 = y_test[idx_test[3]+idx_test[8]][0:1500]\n"
   ]
  },
  {
   "cell_type": "code",
   "execution_count": 17,
   "metadata": {},
   "outputs": [],
   "source": [
    "# K-Means clustering to find centers\n",
    "_38 = []\n",
    "for i in [3,8]:\n",
    "    kmeans_model = KMeans(10)\n",
    "    kmeans_model.fit(x_train[idx_train[i]])\n",
    "    _38.extend(kmeans_model.cluster_centers_)"
   ]
  },
  {
   "cell_type": "code",
   "execution_count": 18,
   "metadata": {},
   "outputs": [
    {
     "data": {
      "image/png": "[encoded data removed]",
      "text/plain": [
       "<Figure size 720x720 with 20 Axes>"
      ]
     },
     "metadata": {},
     "output_type": "display_data"
    }
   ],
   "source": [
    "# plot cluster centers as images\n",
    "fig = plt.figure(figsize = (10,10))\n",
    "\n",
    "for i in range(20):\n",
    "  subplot = fig.add_subplot(10, 10, i+1)\n",
    "  subplot.set_xticks([])\n",
    "  subplot.set_yticks([])\n",
    "  subplot.imshow(np.reshape(_38[i]*255, (28, 28)), cmap='gray')\n",
    "  "
   ]
  },
  {
   "cell_type": "code",
   "execution_count": 19,
   "metadata": {},
   "outputs": [
    {
     "name": "stdout",
     "output_type": "stream",
     "text": [
      "(200, 49)\n"
     ]
    }
   ],
   "source": [
    "center_7x7 =[]\n",
    "row_7x7 = [random.randrange(0,29-7) for _ in range(10)]\n",
    "col_7x7 = [random.randrange(0,29-7) for _ in range(10)]\n",
    "\n",
    "for i in range(10):\n",
    "    for center in _38:\n",
    "        center_7x7.extend(center[r*28+col_7x7[i] : r*28+(col_7x7[i]+7)] \n",
    "                                for r in range(row_7x7[i],row_7x7[i]+7))\n",
    "\n",
    "center_7x7 = np.reshape(center_7x7,(-1,7*7))\n",
    "print(center_7x7.shape)"
   ]
  },
  {
   "cell_type": "code",
   "execution_count": 20,
   "metadata": {},
   "outputs": [
    {
     "name": "stdout",
     "output_type": "stream",
     "text": [
      "(200, 196)\n"
     ]
    }
   ],
   "source": [
    "center_14x14 =[]\n",
    "row_14x14 = [random.randrange(0,29-14) for _ in range(10)]\n",
    "col_14x14 = [random.randrange(0,29-14) for _ in range(10)]\n",
    "\n",
    "for i in range(10):\n",
    "    for center in _38:\n",
    "        center_14x14.extend(center[r*28+col_14x14[i] : r*28+(col_14x14[i]+14)] \n",
    "                                for r in range(row_14x14[i],row_14x14[i]+14))\n",
    "\n",
    "center_14x14 = np.reshape(center_14x14,(-1,14*14))\n",
    "print(center_14x14.shape)"
   ]
  },
  {
   "cell_type": "code",
   "execution_count": 21,
   "metadata": {},
   "outputs": [
    {
     "name": "stdout",
     "output_type": "stream",
     "text": [
      "(20, 784)\n"
     ]
    }
   ],
   "source": [
    "center_28x28 = _38[:]\n",
    "center_28x28 = np.array(center_28x28)\n",
    "print(center_28x28.shape)"
   ]
  },
  {
   "cell_type": "code",
   "execution_count": 22,
   "metadata": {},
   "outputs": [],
   "source": [
    "x_7 = np.zeros((200,200))\n",
    "for i in range(200):\n",
    "    x_7[i][i] = 1\n",
    "\n",
    "x_14 = np.zeros((200,200))\n",
    "for i in range(200):\n",
    "    x_14[i][i] = 1\n",
    "\n",
    "x_28 = np.zeros((20,20))\n",
    "for i in range(20):\n",
    "    x_28[i][i] = 1"
   ]
  },
  {
   "cell_type": "code",
   "execution_count": 23,
   "metadata": {},
   "outputs": [
    {
     "name": "stdout",
     "output_type": "stream",
     "text": [
      "(119820, 49)\n",
      "(19840, 49)\n"
     ]
    }
   ],
   "source": [
    "trimg_7x7 = []\n",
    "trlab_7x7 = []\n",
    "testimg_7x7 = []\n",
    "testlab_7x7 = []\n",
    "\n",
    "for i in range(10):\n",
    "    \n",
    "    for arr in x_train_38:\n",
    "        trimg_7x7.extend(arr[r*28+col_7x7[i] : r*28+(col_7x7[i]+7)]\n",
    "                         for r in range(row_7x7[i],row_7x7[i]+7))\n",
    "        \n",
    "    for arr in x_test_38:\n",
    "        testimg_7x7.extend(arr[r*28+col_7x7[i] : r*28+(col_7x7[i]+7) ] \n",
    "                                  for r in range(row_7x7[i],row_7x7[i]+7))   \n",
    "    \n",
    "    for arr in y_train_38:    \n",
    "        trlab_7x7.extend(arr)\n",
    "\n",
    "    for arr in y_test_38:    \n",
    "        testlab_7x7.extend(arr)\n",
    "\n",
    "trimg_7x7 = np.reshape(trimg_7x7,(-1,7*7))  \n",
    "testimg_7x7 = np.reshape(testimg_7x7,(-1,7*7))    \n",
    "trlab_7x7 = np.reshape(trlab_7x7,(-1,10))\n",
    "testlab_7x7 = np.reshape(testlab_7x7,(-1,10))\n",
    "\n",
    "print(trimg_7x7.shape)\n",
    "print(testimg_7x7.shape)"
   ]
  },
  {
   "cell_type": "code",
   "execution_count": 24,
   "metadata": {},
   "outputs": [
    {
     "name": "stdout",
     "output_type": "stream",
     "text": [
      "(119820, 196)\n",
      "(19840, 196)\n"
     ]
    }
   ],
   "source": [
    "trimg_14x14 = []\n",
    "trlab_14x14 = []\n",
    "testimg_14x14 = []\n",
    "testlab_14x14 = []\n",
    "\n",
    "for i in range(10):\n",
    "    for arr in x_train_38:\n",
    "        trimg_14x14.extend(arr[r*28+col_14x14[i] : r*28+(col_14x14[i]+14) ] \n",
    "                                  for r in range(row_14x14[i],row_14x14[i]+14))\n",
    "    for arr in x_test_38:\n",
    "        testimg_14x14.extend(arr[r*28+col_14x14[i] : r*28+(col_14x14[i]+14) ] \n",
    "                                  for r in range(row_14x14[i],row_14x14[i]+14))\n",
    "    \n",
    "    for arr in y_train_38:    \n",
    "        trlab_14x14.extend(arr)\n",
    "\n",
    "    for arr in y_test_38:    \n",
    "        testlab_14x14.extend(arr)\n",
    "\n",
    "trimg_14x14 = np.reshape(trimg_14x14,(-1,14*14))  \n",
    "testimg_14x14 = np.reshape(testimg_14x14,(-1,14*14))    \n",
    "trlab_14x14 = np.reshape(trlab_14x14,(-1,10))\n",
    "testlab_14x14 = np.reshape(testlab_14x14,(-1,10))\n",
    "\n",
    "print(trimg_14x14.shape)\n",
    "print(testimg_14x14.shape)"
   ]
  },
  {
   "cell_type": "code",
   "execution_count": 25,
   "metadata": {},
   "outputs": [
    {
     "name": "stdout",
     "output_type": "stream",
     "text": [
      "(119820, 784)\n",
      "(19840, 784)\n"
     ]
    }
   ],
   "source": [
    "trimg_28x28 = []\n",
    "trlab_28x28 = []\n",
    "testimg_28x28 = []\n",
    "testlab_28x28 = []\n",
    "\n",
    "for i in range(10):\n",
    "    for arr in x_train_38:\n",
    "        trimg_28x28.extend(arr)\n",
    "    for arr in x_test_38:\n",
    "        testimg_28x28.extend(arr)\n",
    "    for arr in y_train_38:    \n",
    "        trlab_28x28.extend(arr)\n",
    "    for arr in y_test_38:    \n",
    "        testlab_28x28.extend(arr)\n",
    "\n",
    "trimg_28x28 = np.reshape(trimg_28x28,(-1,28*28))  \n",
    "testimg_28x28 = np.reshape(testimg_28x28,(-1,28*28))    \n",
    "trlab_28x28 = np.reshape(trlab_28x28,(-1,10))\n",
    "testlab_28x28 = np.reshape(testlab_28x28,(-1,10))\n",
    "\n",
    "print(trimg_28x28.shape)\n",
    "print(testimg_28x28.shape)\n"
   ]
  },
  {
   "cell_type": "code",
   "execution_count": 26,
   "metadata": {},
   "outputs": [
    {
     "name": "stdout",
     "output_type": "stream",
     "text": [
      "(119820, 400)\n"
     ]
    }
   ],
   "source": [
    "temp1 = []\n",
    "temp2=[]\n",
    "temp3=[]\n",
    "temp4=[]\n",
    "\n",
    "kernel = PairwiseKernel(metric='polynomial') \n",
    "\n",
    "rbf_models = GaussianProcessRegressor(kernel=kernel,alpha=0.1).fit(center_7x7, x_7)\n",
    "\n",
    "temp1=(rbf_models.predict(trimg_7x7))\n",
    "temp2=(rbf_models.predict(testimg_7x7))\n",
    "\n",
    "\n",
    "rbf_models = GaussianProcessRegressor(kernel=kernel,alpha=0.1).fit(center_14x14, x_14)\n",
    "\n",
    "temp3=(rbf_models.predict(trimg_14x14))\n",
    "temp4=(rbf_models.predict(testimg_14x14))\n",
    "\n",
    "# rbf_models = GaussianProcessRegressor(kernel=kernel,alpha=0.1).fit(center_28x28, x_28)\n",
    "\n",
    "# temp5=(rbf_models.predict(trimg_28x28))\n",
    "# temp6=(rbf_models.predict(testimg_28x28))\n",
    "\n",
    "\n",
    "temp1 = np.hstack([temp1,temp3])\n",
    "# temp1 = np.hstack([temp1,temp5])\n",
    "\n",
    "temp2 = np.hstack([temp2,temp4])\n",
    "# temp2 = np.hstack([temp2,temp6])\n",
    "\n",
    "print(temp1.shape)\n",
    "\n",
    "# trlab_7x7 = np.vstack([trlab_7x7,trlab_14x14])\n",
    "# print(trlab_7x7.shape)"
   ]
  },
  {
   "cell_type": "code",
   "execution_count": 27,
   "metadata": {
    "scrolled": false
   },
   "outputs": [
    {
     "name": "stdout",
     "output_type": "stream",
     "text": [
      "_________________________________________________________________\n",
      "Layer (type)                 Output Shape              Param #   \n",
      "=================================================================\n",
      "dense_2 (Dense)              (None, 10)                4010      \n",
      "=================================================================\n",
      "Total params: 4,010\n",
      "Trainable params: 4,010\n",
      "Non-trainable params: 0\n",
      "_________________________________________________________________\n",
      "Epoch 1/100\n",
      "119820/119820 [==============================] - 2s 17us/step - loss: 1.3054 - acc: 0.6295\n",
      "Epoch 2/100\n",
      "119820/119820 [==============================] - 2s 15us/step - loss: 0.6753 - acc: 0.8259\n",
      "Epoch 3/100\n",
      "119820/119820 [==============================] - 2s 15us/step - loss: 0.5013 - acc: 0.8715\n",
      "Epoch 4/100\n",
      "119820/119820 [==============================] - 2s 15us/step - loss: 0.4125 - acc: 0.8931\n",
      "Epoch 5/100\n",
      "119820/119820 [==============================] - 2s 15us/step - loss: 0.3585 - acc: 0.9054\n",
      "Epoch 6/100\n",
      "119820/119820 [==============================] - 2s 15us/step - loss: 0.3226 - acc: 0.9122\n",
      "Epoch 7/100\n",
      "119820/119820 [==============================] - 2s 15us/step - loss: 0.2972 - acc: 0.9176\n",
      "Epoch 8/100\n",
      "119820/119820 [==============================] - 2s 15us/step - loss: 0.2786 - acc: 0.9205\n",
      "Epoch 9/100\n",
      "119820/119820 [==============================] - 2s 15us/step - loss: 0.2643 - acc: 0.9229\n",
      "Epoch 10/100\n",
      "119820/119820 [==============================] - 2s 15us/step - loss: 0.2531 - acc: 0.9255\n",
      "Epoch 11/100\n",
      "119820/119820 [==============================] - 2s 15us/step - loss: 0.2442 - acc: 0.9268\n",
      "Epoch 12/100\n",
      "119820/119820 [==============================] - 2s 15us/step - loss: 0.2369 - acc: 0.9287\n",
      "Epoch 13/100\n",
      "119820/119820 [==============================] - 2s 15us/step - loss: 0.2309 - acc: 0.9296\n",
      "Epoch 14/100\n",
      "119820/119820 [==============================] - 2s 15us/step - loss: 0.2258 - acc: 0.9309\n",
      "Epoch 15/100\n",
      "119820/119820 [==============================] - 2s 15us/step - loss: 0.2215 - acc: 0.9314\n",
      "Epoch 16/100\n",
      "119820/119820 [==============================] - 2s 15us/step - loss: 0.2177 - acc: 0.9323\n",
      "Epoch 17/100\n",
      "119820/119820 [==============================] - 2s 15us/step - loss: 0.2144 - acc: 0.9332\n",
      "Epoch 18/100\n",
      "119820/119820 [==============================] - 2s 15us/step - loss: 0.2115 - acc: 0.9337\n",
      "Epoch 19/100\n",
      "119820/119820 [==============================] - 2s 15us/step - loss: 0.2090 - acc: 0.9341\n",
      "Epoch 20/100\n",
      "119820/119820 [==============================] - 2s 15us/step - loss: 0.2067 - acc: 0.9346\n",
      "Epoch 21/100\n",
      "119820/119820 [==============================] - 2s 15us/step - loss: 0.2047 - acc: 0.9350\n",
      "Epoch 22/100\n",
      "119820/119820 [==============================] - 2s 15us/step - loss: 0.2029 - acc: 0.9357\n",
      "Epoch 23/100\n",
      "119820/119820 [==============================] - 2s 15us/step - loss: 0.2012 - acc: 0.9359\n",
      "Epoch 24/100\n",
      "119820/119820 [==============================] - 2s 15us/step - loss: 0.1997 - acc: 0.9363\n",
      "Epoch 25/100\n",
      "119820/119820 [==============================] - 2s 15us/step - loss: 0.1982 - acc: 0.9364\n",
      "Epoch 26/100\n",
      "119820/119820 [==============================] - 2s 15us/step - loss: 0.1970 - acc: 0.9370\n",
      "Epoch 27/100\n",
      "119820/119820 [==============================] - 2s 15us/step - loss: 0.1958 - acc: 0.9373\n",
      "Epoch 28/100\n",
      "119820/119820 [==============================] - 2s 15us/step - loss: 0.1947 - acc: 0.9373\n",
      "Epoch 29/100\n",
      "119820/119820 [==============================] - 2s 15us/step - loss: 0.1936 - acc: 0.9379\n",
      "Epoch 30/100\n",
      "119820/119820 [==============================] - 2s 16us/step - loss: 0.1927 - acc: 0.9379\n",
      "Epoch 31/100\n",
      "119820/119820 [==============================] - 2s 15us/step - loss: 0.1918 - acc: 0.9381\n",
      "Epoch 32/100\n",
      "119820/119820 [==============================] - 2s 15us/step - loss: 0.1909 - acc: 0.9386\n",
      "Epoch 33/100\n",
      "119820/119820 [==============================] - 2s 15us/step - loss: 0.1902 - acc: 0.9384\n",
      "Epoch 34/100\n",
      "119820/119820 [==============================] - 2s 15us/step - loss: 0.1894 - acc: 0.9388\n",
      "Epoch 35/100\n",
      "119820/119820 [==============================] - 2s 15us/step - loss: 0.1887 - acc: 0.9392\n",
      "Epoch 36/100\n",
      "119820/119820 [==============================] - 2s 15us/step - loss: 0.1881 - acc: 0.9390\n",
      "Epoch 37/100\n",
      "119820/119820 [==============================] - 2s 15us/step - loss: 0.1875 - acc: 0.9392\n",
      "Epoch 38/100\n",
      "119820/119820 [==============================] - 2s 15us/step - loss: 0.1869 - acc: 0.9393\n",
      "Epoch 39/100\n",
      "119820/119820 [==============================] - 2s 15us/step - loss: 0.1863 - acc: 0.9395\n",
      "Epoch 40/100\n",
      "119820/119820 [==============================] - 2s 15us/step - loss: 0.1858 - acc: 0.9397\n",
      "Epoch 41/100\n",
      "119820/119820 [==============================] - 2s 15us/step - loss: 0.1853 - acc: 0.9398\n",
      "Epoch 42/100\n",
      "119820/119820 [==============================] - 2s 15us/step - loss: 0.1848 - acc: 0.9400\n",
      "Epoch 43/100\n",
      "119820/119820 [==============================] - 2s 16us/step - loss: 0.1844 - acc: 0.9401\n",
      "Epoch 44/100\n",
      "119820/119820 [==============================] - 2s 15us/step - loss: 0.1839 - acc: 0.9401\n",
      "Epoch 45/100\n",
      "119820/119820 [==============================] - 2s 15us/step - loss: 0.1836 - acc: 0.9403\n",
      "Epoch 46/100\n",
      "119820/119820 [==============================] - 2s 15us/step - loss: 0.1832 - acc: 0.9404\n",
      "Epoch 47/100\n",
      "119820/119820 [==============================] - 2s 15us/step - loss: 0.1829 - acc: 0.9403\n",
      "Epoch 48/100\n",
      "119820/119820 [==============================] - 2s 15us/step - loss: 0.1824 - acc: 0.9406\n",
      "Epoch 49/100\n",
      "119820/119820 [==============================] - 2s 15us/step - loss: 0.1821 - acc: 0.9408\n",
      "Epoch 50/100\n",
      "119820/119820 [==============================] - 2s 15us/step - loss: 0.1818 - acc: 0.9407\n",
      "Epoch 51/100\n",
      "119820/119820 [==============================] - 2s 15us/step - loss: 0.1815 - acc: 0.9410\n",
      "Epoch 52/100\n",
      "119820/119820 [==============================] - 2s 15us/step - loss: 0.1812 - acc: 0.9411\n",
      "Epoch 53/100\n",
      "119820/119820 [==============================] - 2s 15us/step - loss: 0.1809 - acc: 0.9409\n",
      "Epoch 54/100\n",
      "119820/119820 [==============================] - 2s 15us/step - loss: 0.1807 - acc: 0.9411\n",
      "Epoch 55/100\n",
      "119820/119820 [==============================] - 2s 15us/step - loss: 0.1804 - acc: 0.9413\n",
      "Epoch 56/100\n",
      "119820/119820 [==============================] - 2s 15us/step - loss: 0.1801 - acc: 0.9414\n",
      "Epoch 57/100\n",
      "119820/119820 [==============================] - 2s 15us/step - loss: 0.1799 - acc: 0.9412\n",
      "Epoch 58/100\n",
      "119820/119820 [==============================] - 2s 15us/step - loss: 0.1797 - acc: 0.9411\n",
      "Epoch 59/100\n",
      "119820/119820 [==============================] - 2s 15us/step - loss: 0.1794 - acc: 0.9414\n",
      "Epoch 60/100\n",
      "119820/119820 [==============================] - 2s 15us/step - loss: 0.1792 - acc: 0.9414\n",
      "Epoch 61/100\n",
      "119820/119820 [==============================] - 2s 15us/step - loss: 0.1791 - acc: 0.9416\n",
      "Epoch 62/100\n",
      "119820/119820 [==============================] - 2s 15us/step - loss: 0.1788 - acc: 0.9418\n",
      "Epoch 63/100\n",
      "119820/119820 [==============================] - 2s 15us/step - loss: 0.1786 - acc: 0.9418\n",
      "Epoch 64/100\n",
      "119820/119820 [==============================] - 2s 15us/step - loss: 0.1785 - acc: 0.9417\n",
      "Epoch 65/100\n",
      "119820/119820 [==============================] - 2s 16us/step - loss: 0.1783 - acc: 0.9419\n",
      "Epoch 66/100\n",
      "119820/119820 [==============================] - 2s 15us/step - loss: 0.1781 - acc: 0.9419\n",
      "Epoch 67/100\n",
      "119820/119820 [==============================] - 2s 15us/step - loss: 0.1780 - acc: 0.9423\n",
      "Epoch 68/100\n",
      "119820/119820 [==============================] - 2s 15us/step - loss: 0.1778 - acc: 0.9421\n",
      "Epoch 69/100\n",
      "119820/119820 [==============================] - 2s 15us/step - loss: 0.1776 - acc: 0.9418\n",
      "Epoch 70/100\n",
      "119820/119820 [==============================] - 2s 15us/step - loss: 0.1776 - acc: 0.9422\n",
      "Epoch 71/100\n",
      "119820/119820 [==============================] - 2s 15us/step - loss: 0.1773 - acc: 0.9421\n",
      "Epoch 72/100\n",
      "119820/119820 [==============================] - 2s 14us/step - loss: 0.1772 - acc: 0.9424\n",
      "Epoch 73/100\n",
      "119820/119820 [==============================] - 2s 14us/step - loss: 0.1771 - acc: 0.9424\n",
      "Epoch 74/100\n",
      "119820/119820 [==============================] - 2s 15us/step - loss: 0.1769 - acc: 0.9424\n",
      "Epoch 75/100\n"
     ]
    },
    {
     "name": "stdout",
     "output_type": "stream",
     "text": [
      "119820/119820 [==============================] - 2s 15us/step - loss: 0.1768 - acc: 0.9425\n",
      "Epoch 76/100\n",
      "119820/119820 [==============================] - 2s 15us/step - loss: 0.1766 - acc: 0.9425\n",
      "Epoch 77/100\n",
      "119820/119820 [==============================] - 2s 15us/step - loss: 0.1766 - acc: 0.9425\n",
      "Epoch 78/100\n",
      "119820/119820 [==============================] - 2s 15us/step - loss: 0.1764 - acc: 0.9425\n",
      "Epoch 79/100\n",
      "119820/119820 [==============================] - 2s 15us/step - loss: 0.1763 - acc: 0.9426\n",
      "Epoch 80/100\n",
      "119820/119820 [==============================] - 2s 15us/step - loss: 0.1762 - acc: 0.9425\n",
      "Epoch 81/100\n",
      "119820/119820 [==============================] - 2s 15us/step - loss: 0.1761 - acc: 0.9426\n",
      "Epoch 82/100\n",
      "119820/119820 [==============================] - 2s 15us/step - loss: 0.1760 - acc: 0.9423\n",
      "Epoch 83/100\n",
      "119820/119820 [==============================] - 2s 15us/step - loss: 0.1759 - acc: 0.9426\n",
      "Epoch 84/100\n",
      "119820/119820 [==============================] - 2s 15us/step - loss: 0.1759 - acc: 0.9426\n",
      "Epoch 85/100\n",
      "119820/119820 [==============================] - 2s 15us/step - loss: 0.1757 - acc: 0.9426\n",
      "Epoch 86/100\n",
      "119820/119820 [==============================] - 2s 15us/step - loss: 0.1756 - acc: 0.9425\n",
      "Epoch 87/100\n",
      "119820/119820 [==============================] - 2s 14us/step - loss: 0.1755 - acc: 0.9428\n",
      "Epoch 88/100\n",
      "119820/119820 [==============================] - 2s 17us/step - loss: 0.1754 - acc: 0.9426\n",
      "Epoch 89/100\n",
      "119820/119820 [==============================] - 2s 15us/step - loss: 0.1753 - acc: 0.9431\n",
      "Epoch 90/100\n",
      "119820/119820 [==============================] - 2s 15us/step - loss: 0.1753 - acc: 0.9430\n",
      "Epoch 91/100\n",
      "119820/119820 [==============================] - 2s 15us/step - loss: 0.1751 - acc: 0.9428\n",
      "Epoch 92/100\n",
      "119820/119820 [==============================] - 2s 14us/step - loss: 0.1751 - acc: 0.9429\n",
      "Epoch 93/100\n",
      "119820/119820 [==============================] - 2s 14us/step - loss: 0.1750 - acc: 0.9430\n",
      "Epoch 94/100\n",
      "119820/119820 [==============================] - 2s 14us/step - loss: 0.1750 - acc: 0.9427\n",
      "Epoch 95/100\n",
      "119820/119820 [==============================] - 2s 14us/step - loss: 0.1749 - acc: 0.9429\n",
      "Epoch 96/100\n",
      "119820/119820 [==============================] - 2s 14us/step - loss: 0.1748 - acc: 0.9431\n",
      "Epoch 97/100\n",
      "119820/119820 [==============================] - 2s 14us/step - loss: 0.1748 - acc: 0.9431\n",
      "Epoch 98/100\n",
      "119820/119820 [==============================] - 2s 14us/step - loss: 0.1746 - acc: 0.9431\n",
      "Epoch 99/100\n",
      "119820/119820 [==============================] - 2s 14us/step - loss: 0.1746 - acc: 0.9432\n",
      "Epoch 100/100\n",
      "119820/119820 [==============================] - 2s 14us/step - loss: 0.1745 - acc: 0.9431\n"
     ]
    }
   ],
   "source": [
    "\n",
    "batch_size = 128\n",
    "epochs = 100\n",
    "\n",
    "model = Sequential()\n",
    "model.add(Dense(10, activation='softmax', input_shape=(400,)))\n",
    "\n",
    "\n",
    "model.summary()\n",
    "nadam=keras.optimizers.Nadam(lr=0.0005)\n",
    "model.compile(loss='categorical_crossentropy',optimizer=nadam,metrics=['accuracy'])\n",
    "\n",
    "history = model.fit(temp1,trlab_7x7\n",
    "                         ,batch_size=batch_size\n",
    "                         ,epochs=epochs\n",
    "                         ,verbose=1)"
   ]
  },
  {
   "cell_type": "code",
   "execution_count": 28,
   "metadata": {},
   "outputs": [
    {
     "name": "stdout",
     "output_type": "stream",
     "text": [
      "Test loss: 0.16231594347440068\n",
      "Test accuracy: 0.9491431451612903\n"
     ]
    }
   ],
   "source": [
    "score = model.evaluate(temp2, testlab_7x7, verbose=0)\n",
    "print('Test loss:', score[0])\n",
    "print('Test accuracy:', score[1])"
   ]
  },
  {
   "cell_type": "code",
   "execution_count": null,
   "metadata": {},
   "outputs": [],
   "source": []
  }
 ],
 "metadata": {
  "kernelspec": {
   "display_name": "Python 3",
   "language": "python",
   "name": "python3"
  },
  "language_info": {
   "codemirror_mode": {
    "name": "ipython",
    "version": 3
   },
   "file_extension": ".py",
   "mimetype": "text/x-python",
   "name": "python",
   "nbconvert_exporter": "python",
   "pygments_lexer": "ipython3",
   "version": "3.6.8"
  }
 },
 "nbformat": 4,
 "nbformat_minor": 2
}
